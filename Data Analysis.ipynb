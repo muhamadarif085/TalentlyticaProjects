{
 "cells": [
  {
   "cell_type": "code",
   "execution_count": 26,
   "outputs": [],
   "source": [
    "import re\n",
    "import spacy\n",
    "import fitz\n",
    "import pandas as pd\n",
    "\n",
    "nlp = spacy.load('model_job')"
   ],
   "metadata": {
    "collapsed": false,
    "pycharm": {
     "name": "#%%\n"
    }
   }
  },
  {
   "cell_type": "code",
   "execution_count": 27,
   "outputs": [],
   "source": [
    "def extract_text(filePath, remove_line=False):\n",
    "    with fitz.open(filePath) as doc:\n",
    "        finaltext = \"\"\n",
    "        for page in doc:\n",
    "            text = page.get_text()\n",
    "            text = text.replace(\"\\n\",\" \")\n",
    "            text = text.replace(\"[^a-zA-Z0-9]\", \" \");\n",
    "            text = re.sub('\\W+',' ', text)\n",
    "            text = re.sub('[^A-Za-z0-9]',' ', text)\n",
    "            finaltext += text\n",
    "\n",
    "        if remove_line:\n",
    "            finaltext = text = re.sub('\\s', \" \", text)\n",
    "\n",
    "    return finaltext\n",
    "\n",
    "def extract_job(text, nlp):\n",
    "    doc = nlp(text)\n",
    "\n",
    "    job = set()\n",
    "\n",
    "    for a in doc.ents:\n",
    "        job.add(str(a).lower())\n",
    "\n",
    "    return job"
   ],
   "metadata": {
    "collapsed": false,
    "pycharm": {
     "name": "#%%\n"
    }
   }
  },
  {
   "cell_type": "code",
   "execution_count": 30,
   "outputs": [
    {
     "data": {
      "text/plain": "                             Email  key               Nama Peserta  \\\n0    ariefwijayakusuma96@gmail.com  NaN        Arief Wijaya Kusuma   \n1              atkamliaa@gmail.com  NaN              Atikah Amalia   \n2        deri45anggraini@gmail.com  NaN       Deri Firma Anggraini   \n3        elisabethda1994@gmail.com  NaN    Elisabeth Dwi Anggraeni   \n4          jordyrevindra@gmail.com  NaN      Jordy Revindra Priana   \n..                             ...  ...                        ...   \n96           davidacroos@gmail.com  NaN              David Pratama   \n97           deapandhita@gmail.com  NaN  Regina Dea Pandhita Putri   \n98     dhiaulfa.thufaila@gmail.com  NaN          Dhiaulfa Thufaila   \n99       dwidanaribrahim@gmail.com  NaN          DWI DANAR IBRAHIM   \n100         fernandoprtm@gmail.com  NaN  Fernando Prataka Romadhan   \n\n              Project  MD  MI  MS  MC  LD  LI  ...  Unnamed: 68  Unnamed: 69  \\\n0    Hiring Batch 1 1   6   3   2   8   5   5  ...          NaN          NaN   \n1    Hiring Batch 1 2   7   3   2   6   4   5  ...          NaN          NaN   \n2    Hiring Batch 1 2   8   2   3   7   4   4  ...          NaN          NaN   \n3    Hiring Batch 1 2   8   3   2   5   4   5  ...          NaN          NaN   \n4    Hiring Batch 1 2   5   4   3   7   5   5  ...          NaN          NaN   \n..                ...  ..  ..  ..  ..  ..  ..  ...          ...          ...   \n96   Hiring Batch 5 1  10   2   3   4   9   6  ...          NaN          NaN   \n97   Hiring Batch 5 1   6   3   4   6   5   6  ...          NaN          NaN   \n98   Hiring Batch 5 1   5   2   0   9   4   6  ...          NaN          NaN   \n99   Hiring Batch 5 1   9   3   3   4   5   4  ...          NaN          NaN   \n100  Hiring Batch 5 1   4   1   2   9   3   9  ...          NaN          NaN   \n\n     Unnamed: 70  Unnamed: 71  Unnamed: 72  Unnamed: 73 Unnamed: 74  \\\n0            NaN          NaN          NaN          NaN         NaN   \n1            NaN          NaN          NaN          NaN         NaN   \n2            NaN          NaN          NaN          NaN         NaN   \n3            NaN          NaN          NaN          NaN         NaN   \n4            NaN          NaN          NaN          NaN         NaN   \n..           ...          ...          ...          ...         ...   \n96           NaN          NaN          NaN          NaN         NaN   \n97           NaN          NaN          NaN          NaN         NaN   \n98           NaN          NaN          NaN          NaN         NaN   \n99           NaN          NaN          NaN          NaN         NaN   \n100          NaN          NaN          NaN          NaN         NaN   \n\n    Unnamed: 75 Unnamed: 76 Unnamed: 77  \n0           NaN         NaN         NaN  \n1           NaN         NaN         NaN  \n2           NaN         NaN         NaN  \n3           NaN         NaN         NaN  \n4           NaN         NaN         NaN  \n..          ...         ...         ...  \n96          NaN         NaN         NaN  \n97          NaN         NaN         NaN  \n98          NaN         NaN         NaN  \n99          NaN         NaN         NaN  \n100         NaN         NaN         NaN  \n\n[101 rows x 78 columns]",
      "text/html": "<div>\n<style scoped>\n    .dataframe tbody tr th:only-of-type {\n        vertical-align: middle;\n    }\n\n    .dataframe tbody tr th {\n        vertical-align: top;\n    }\n\n    .dataframe thead th {\n        text-align: right;\n    }\n</style>\n<table border=\"1\" class=\"dataframe\">\n  <thead>\n    <tr style=\"text-align: right;\">\n      <th></th>\n      <th>Email</th>\n      <th>key</th>\n      <th>Nama Peserta</th>\n      <th>Project</th>\n      <th>MD</th>\n      <th>MI</th>\n      <th>MS</th>\n      <th>MC</th>\n      <th>LD</th>\n      <th>LI</th>\n      <th>...</th>\n      <th>Unnamed: 68</th>\n      <th>Unnamed: 69</th>\n      <th>Unnamed: 70</th>\n      <th>Unnamed: 71</th>\n      <th>Unnamed: 72</th>\n      <th>Unnamed: 73</th>\n      <th>Unnamed: 74</th>\n      <th>Unnamed: 75</th>\n      <th>Unnamed: 76</th>\n      <th>Unnamed: 77</th>\n    </tr>\n  </thead>\n  <tbody>\n    <tr>\n      <th>0</th>\n      <td>ariefwijayakusuma96@gmail.com</td>\n      <td>NaN</td>\n      <td>Arief Wijaya Kusuma</td>\n      <td>Hiring Batch 1 1</td>\n      <td>6</td>\n      <td>3</td>\n      <td>2</td>\n      <td>8</td>\n      <td>5</td>\n      <td>5</td>\n      <td>...</td>\n      <td>NaN</td>\n      <td>NaN</td>\n      <td>NaN</td>\n      <td>NaN</td>\n      <td>NaN</td>\n      <td>NaN</td>\n      <td>NaN</td>\n      <td>NaN</td>\n      <td>NaN</td>\n      <td>NaN</td>\n    </tr>\n    <tr>\n      <th>1</th>\n      <td>atkamliaa@gmail.com</td>\n      <td>NaN</td>\n      <td>Atikah Amalia</td>\n      <td>Hiring Batch 1 2</td>\n      <td>7</td>\n      <td>3</td>\n      <td>2</td>\n      <td>6</td>\n      <td>4</td>\n      <td>5</td>\n      <td>...</td>\n      <td>NaN</td>\n      <td>NaN</td>\n      <td>NaN</td>\n      <td>NaN</td>\n      <td>NaN</td>\n      <td>NaN</td>\n      <td>NaN</td>\n      <td>NaN</td>\n      <td>NaN</td>\n      <td>NaN</td>\n    </tr>\n    <tr>\n      <th>2</th>\n      <td>deri45anggraini@gmail.com</td>\n      <td>NaN</td>\n      <td>Deri Firma Anggraini</td>\n      <td>Hiring Batch 1 2</td>\n      <td>8</td>\n      <td>2</td>\n      <td>3</td>\n      <td>7</td>\n      <td>4</td>\n      <td>4</td>\n      <td>...</td>\n      <td>NaN</td>\n      <td>NaN</td>\n      <td>NaN</td>\n      <td>NaN</td>\n      <td>NaN</td>\n      <td>NaN</td>\n      <td>NaN</td>\n      <td>NaN</td>\n      <td>NaN</td>\n      <td>NaN</td>\n    </tr>\n    <tr>\n      <th>3</th>\n      <td>elisabethda1994@gmail.com</td>\n      <td>NaN</td>\n      <td>Elisabeth Dwi Anggraeni</td>\n      <td>Hiring Batch 1 2</td>\n      <td>8</td>\n      <td>3</td>\n      <td>2</td>\n      <td>5</td>\n      <td>4</td>\n      <td>5</td>\n      <td>...</td>\n      <td>NaN</td>\n      <td>NaN</td>\n      <td>NaN</td>\n      <td>NaN</td>\n      <td>NaN</td>\n      <td>NaN</td>\n      <td>NaN</td>\n      <td>NaN</td>\n      <td>NaN</td>\n      <td>NaN</td>\n    </tr>\n    <tr>\n      <th>4</th>\n      <td>jordyrevindra@gmail.com</td>\n      <td>NaN</td>\n      <td>Jordy Revindra Priana</td>\n      <td>Hiring Batch 1 2</td>\n      <td>5</td>\n      <td>4</td>\n      <td>3</td>\n      <td>7</td>\n      <td>5</td>\n      <td>5</td>\n      <td>...</td>\n      <td>NaN</td>\n      <td>NaN</td>\n      <td>NaN</td>\n      <td>NaN</td>\n      <td>NaN</td>\n      <td>NaN</td>\n      <td>NaN</td>\n      <td>NaN</td>\n      <td>NaN</td>\n      <td>NaN</td>\n    </tr>\n    <tr>\n      <th>...</th>\n      <td>...</td>\n      <td>...</td>\n      <td>...</td>\n      <td>...</td>\n      <td>...</td>\n      <td>...</td>\n      <td>...</td>\n      <td>...</td>\n      <td>...</td>\n      <td>...</td>\n      <td>...</td>\n      <td>...</td>\n      <td>...</td>\n      <td>...</td>\n      <td>...</td>\n      <td>...</td>\n      <td>...</td>\n      <td>...</td>\n      <td>...</td>\n      <td>...</td>\n      <td>...</td>\n    </tr>\n    <tr>\n      <th>96</th>\n      <td>davidacroos@gmail.com</td>\n      <td>NaN</td>\n      <td>David Pratama</td>\n      <td>Hiring Batch 5 1</td>\n      <td>10</td>\n      <td>2</td>\n      <td>3</td>\n      <td>4</td>\n      <td>9</td>\n      <td>6</td>\n      <td>...</td>\n      <td>NaN</td>\n      <td>NaN</td>\n      <td>NaN</td>\n      <td>NaN</td>\n      <td>NaN</td>\n      <td>NaN</td>\n      <td>NaN</td>\n      <td>NaN</td>\n      <td>NaN</td>\n      <td>NaN</td>\n    </tr>\n    <tr>\n      <th>97</th>\n      <td>deapandhita@gmail.com</td>\n      <td>NaN</td>\n      <td>Regina Dea Pandhita Putri</td>\n      <td>Hiring Batch 5 1</td>\n      <td>6</td>\n      <td>3</td>\n      <td>4</td>\n      <td>6</td>\n      <td>5</td>\n      <td>6</td>\n      <td>...</td>\n      <td>NaN</td>\n      <td>NaN</td>\n      <td>NaN</td>\n      <td>NaN</td>\n      <td>NaN</td>\n      <td>NaN</td>\n      <td>NaN</td>\n      <td>NaN</td>\n      <td>NaN</td>\n      <td>NaN</td>\n    </tr>\n    <tr>\n      <th>98</th>\n      <td>dhiaulfa.thufaila@gmail.com</td>\n      <td>NaN</td>\n      <td>Dhiaulfa Thufaila</td>\n      <td>Hiring Batch 5 1</td>\n      <td>5</td>\n      <td>2</td>\n      <td>0</td>\n      <td>9</td>\n      <td>4</td>\n      <td>6</td>\n      <td>...</td>\n      <td>NaN</td>\n      <td>NaN</td>\n      <td>NaN</td>\n      <td>NaN</td>\n      <td>NaN</td>\n      <td>NaN</td>\n      <td>NaN</td>\n      <td>NaN</td>\n      <td>NaN</td>\n      <td>NaN</td>\n    </tr>\n    <tr>\n      <th>99</th>\n      <td>dwidanaribrahim@gmail.com</td>\n      <td>NaN</td>\n      <td>DWI DANAR IBRAHIM</td>\n      <td>Hiring Batch 5 1</td>\n      <td>9</td>\n      <td>3</td>\n      <td>3</td>\n      <td>4</td>\n      <td>5</td>\n      <td>4</td>\n      <td>...</td>\n      <td>NaN</td>\n      <td>NaN</td>\n      <td>NaN</td>\n      <td>NaN</td>\n      <td>NaN</td>\n      <td>NaN</td>\n      <td>NaN</td>\n      <td>NaN</td>\n      <td>NaN</td>\n      <td>NaN</td>\n    </tr>\n    <tr>\n      <th>100</th>\n      <td>fernandoprtm@gmail.com</td>\n      <td>NaN</td>\n      <td>Fernando Prataka Romadhan</td>\n      <td>Hiring Batch 5 1</td>\n      <td>4</td>\n      <td>1</td>\n      <td>2</td>\n      <td>9</td>\n      <td>3</td>\n      <td>9</td>\n      <td>...</td>\n      <td>NaN</td>\n      <td>NaN</td>\n      <td>NaN</td>\n      <td>NaN</td>\n      <td>NaN</td>\n      <td>NaN</td>\n      <td>NaN</td>\n      <td>NaN</td>\n      <td>NaN</td>\n      <td>NaN</td>\n    </tr>\n  </tbody>\n</table>\n<p>101 rows × 78 columns</p>\n</div>"
     },
     "execution_count": 30,
     "metadata": {},
     "output_type": "execute_result"
    }
   ],
   "source": [
    "df = pd.read_csv('sample/data.csv')\n",
    "\n",
    "df"
   ],
   "metadata": {
    "collapsed": false,
    "pycharm": {
     "name": "#%%\n"
    }
   }
  },
  {
   "cell_type": "code",
   "execution_count": 31,
   "outputs": [
    {
     "name": "stderr",
     "output_type": "stream",
     "text": [
      "C:\\Users\\sakur\\AppData\\Local\\Temp\\ipykernel_9620\\2001212430.py:2: FutureWarning: In a future version of pandas all arguments of DataFrame.drop except for the argument 'labels' will be keyword-only.\n",
      "  df = df.drop('Project', 1)\n",
      "\n",
      "C:\\Users\\sakur\\AppData\\Local\\Temp\\ipykernel_9620\\2001212430.py:5: FutureWarning: In a future version of pandas all arguments of DataFrame.drop except for the argument 'labels' will be keyword-only.\n",
      "  df.drop(101, 0)\n",
      "\n"
     ]
    },
    {
     "data": {
      "text/plain": "                             Email  key               Nama Peserta  MD  MI  \\\n1    ariefwijayakusuma96@gmail.com  nan        Arief Wijaya Kusuma   6   3   \n2              atkamliaa@gmail.com  nan              Atikah Amalia   7   3   \n3        deri45anggraini@gmail.com  nan       Deri Firma Anggraini   8   2   \n4        elisabethda1994@gmail.com  nan    Elisabeth Dwi Anggraeni   8   3   \n5          jordyrevindra@gmail.com  nan      Jordy Revindra Priana   5   4   \n..                             ...  ...                        ...  ..  ..   \n96           adzkiaaulia@gmail.com  nan         Aulia Adzkia Fauzi   7   2   \n97           davidacroos@gmail.com  nan              David Pratama  10   2   \n98           deapandhita@gmail.com  nan  Regina Dea Pandhita Putri   6   3   \n99     dhiaulfa.thufaila@gmail.com  nan          Dhiaulfa Thufaila   5   2   \n100      dwidanaribrahim@gmail.com  nan          DWI DANAR IBRAHIM   9   3   \n\n     MS  MC  LD  LI  LS  ...  KERJASAMA  KETERAMPILAN_INTERPERSONAL  \\\n1     2   8   5   5   6  ...          2                           2   \n2     2   6   4   5   5  ...          3                           2   \n3     3   7   4   4   5  ...          3                           2   \n4     2   5   4   5   6  ...          3                           2   \n5     3   7   5   5   5  ...          3                           3   \n..   ..  ..  ..  ..  ..  ...        ...                         ...   \n96    2   6   5   6   4  ...          2                           2   \n97    3   4   9   6   4  ...          3                           3   \n98    4   6   5   6   6  ...          3                           2   \n99    0   9   4   6   4  ...          2                           2   \n100   3   4   5   4   8  ...          2                           3   \n\n     LOGIKA_BERPIKIR  MOTIVASI_BERPRESTASI  ORIENTASI_HASIL  \\\n1                  4                     3                3   \n2                  2                     3                2   \n3                  5                     3                3   \n4                  5                     3                3   \n5                  2                     2                2   \n..               ...                   ...              ...   \n96                 4                     3                4   \n97                 3                     3                3   \n98                 3                     3                3   \n99                 2                     3                3   \n100                4                     2                3   \n\n    PENYELESAIAN_MASALAH SISTEMATIKA_KERJA pil_jabatan prosen_kecocokan  \\\n1                      4                 3     standar              92%   \n2                      3                 2     standar              79%   \n3                      3                 3     standar              95%   \n4                      4                 3     standar              95%   \n5                      3                 3     standar              85%   \n..                   ...               ...         ...              ...   \n96                     4                 3     standar              92%   \n97                     4                 2     standar              95%   \n98                     3                 3     standar              95%   \n99                     4                 3     standar              87%   \n100                    3                 3     standar              92%   \n\n     hasil_rekomendasi  \n1           Disarankan  \n2      Dipertimbangkan  \n3           Disarankan  \n4           Disarankan  \n5           Disarankan  \n..                 ...  \n96          Disarankan  \n97          Disarankan  \n98          Disarankan  \n99          Disarankan  \n100         Disarankan  \n\n[100 rows x 67 columns]",
      "text/html": "<div>\n<style scoped>\n    .dataframe tbody tr th:only-of-type {\n        vertical-align: middle;\n    }\n\n    .dataframe tbody tr th {\n        vertical-align: top;\n    }\n\n    .dataframe thead th {\n        text-align: right;\n    }\n</style>\n<table border=\"1\" class=\"dataframe\">\n  <thead>\n    <tr style=\"text-align: right;\">\n      <th></th>\n      <th>Email</th>\n      <th>key</th>\n      <th>Nama Peserta</th>\n      <th>MD</th>\n      <th>MI</th>\n      <th>MS</th>\n      <th>MC</th>\n      <th>LD</th>\n      <th>LI</th>\n      <th>LS</th>\n      <th>...</th>\n      <th>KERJASAMA</th>\n      <th>KETERAMPILAN_INTERPERSONAL</th>\n      <th>LOGIKA_BERPIKIR</th>\n      <th>MOTIVASI_BERPRESTASI</th>\n      <th>ORIENTASI_HASIL</th>\n      <th>PENYELESAIAN_MASALAH</th>\n      <th>SISTEMATIKA_KERJA</th>\n      <th>pil_jabatan</th>\n      <th>prosen_kecocokan</th>\n      <th>hasil_rekomendasi</th>\n    </tr>\n  </thead>\n  <tbody>\n    <tr>\n      <th>1</th>\n      <td>ariefwijayakusuma96@gmail.com</td>\n      <td>nan</td>\n      <td>Arief Wijaya Kusuma</td>\n      <td>6</td>\n      <td>3</td>\n      <td>2</td>\n      <td>8</td>\n      <td>5</td>\n      <td>5</td>\n      <td>6</td>\n      <td>...</td>\n      <td>2</td>\n      <td>2</td>\n      <td>4</td>\n      <td>3</td>\n      <td>3</td>\n      <td>4</td>\n      <td>3</td>\n      <td>standar</td>\n      <td>92%</td>\n      <td>Disarankan</td>\n    </tr>\n    <tr>\n      <th>2</th>\n      <td>atkamliaa@gmail.com</td>\n      <td>nan</td>\n      <td>Atikah Amalia</td>\n      <td>7</td>\n      <td>3</td>\n      <td>2</td>\n      <td>6</td>\n      <td>4</td>\n      <td>5</td>\n      <td>5</td>\n      <td>...</td>\n      <td>3</td>\n      <td>2</td>\n      <td>2</td>\n      <td>3</td>\n      <td>2</td>\n      <td>3</td>\n      <td>2</td>\n      <td>standar</td>\n      <td>79%</td>\n      <td>Dipertimbangkan</td>\n    </tr>\n    <tr>\n      <th>3</th>\n      <td>deri45anggraini@gmail.com</td>\n      <td>nan</td>\n      <td>Deri Firma Anggraini</td>\n      <td>8</td>\n      <td>2</td>\n      <td>3</td>\n      <td>7</td>\n      <td>4</td>\n      <td>4</td>\n      <td>5</td>\n      <td>...</td>\n      <td>3</td>\n      <td>2</td>\n      <td>5</td>\n      <td>3</td>\n      <td>3</td>\n      <td>3</td>\n      <td>3</td>\n      <td>standar</td>\n      <td>95%</td>\n      <td>Disarankan</td>\n    </tr>\n    <tr>\n      <th>4</th>\n      <td>elisabethda1994@gmail.com</td>\n      <td>nan</td>\n      <td>Elisabeth Dwi Anggraeni</td>\n      <td>8</td>\n      <td>3</td>\n      <td>2</td>\n      <td>5</td>\n      <td>4</td>\n      <td>5</td>\n      <td>6</td>\n      <td>...</td>\n      <td>3</td>\n      <td>2</td>\n      <td>5</td>\n      <td>3</td>\n      <td>3</td>\n      <td>4</td>\n      <td>3</td>\n      <td>standar</td>\n      <td>95%</td>\n      <td>Disarankan</td>\n    </tr>\n    <tr>\n      <th>5</th>\n      <td>jordyrevindra@gmail.com</td>\n      <td>nan</td>\n      <td>Jordy Revindra Priana</td>\n      <td>5</td>\n      <td>4</td>\n      <td>3</td>\n      <td>7</td>\n      <td>5</td>\n      <td>5</td>\n      <td>5</td>\n      <td>...</td>\n      <td>3</td>\n      <td>3</td>\n      <td>2</td>\n      <td>2</td>\n      <td>2</td>\n      <td>3</td>\n      <td>3</td>\n      <td>standar</td>\n      <td>85%</td>\n      <td>Disarankan</td>\n    </tr>\n    <tr>\n      <th>...</th>\n      <td>...</td>\n      <td>...</td>\n      <td>...</td>\n      <td>...</td>\n      <td>...</td>\n      <td>...</td>\n      <td>...</td>\n      <td>...</td>\n      <td>...</td>\n      <td>...</td>\n      <td>...</td>\n      <td>...</td>\n      <td>...</td>\n      <td>...</td>\n      <td>...</td>\n      <td>...</td>\n      <td>...</td>\n      <td>...</td>\n      <td>...</td>\n      <td>...</td>\n      <td>...</td>\n    </tr>\n    <tr>\n      <th>96</th>\n      <td>adzkiaaulia@gmail.com</td>\n      <td>nan</td>\n      <td>Aulia Adzkia Fauzi</td>\n      <td>7</td>\n      <td>2</td>\n      <td>2</td>\n      <td>6</td>\n      <td>5</td>\n      <td>6</td>\n      <td>4</td>\n      <td>...</td>\n      <td>2</td>\n      <td>2</td>\n      <td>4</td>\n      <td>3</td>\n      <td>4</td>\n      <td>4</td>\n      <td>3</td>\n      <td>standar</td>\n      <td>92%</td>\n      <td>Disarankan</td>\n    </tr>\n    <tr>\n      <th>97</th>\n      <td>davidacroos@gmail.com</td>\n      <td>nan</td>\n      <td>David Pratama</td>\n      <td>10</td>\n      <td>2</td>\n      <td>3</td>\n      <td>4</td>\n      <td>9</td>\n      <td>6</td>\n      <td>4</td>\n      <td>...</td>\n      <td>3</td>\n      <td>3</td>\n      <td>3</td>\n      <td>3</td>\n      <td>3</td>\n      <td>4</td>\n      <td>2</td>\n      <td>standar</td>\n      <td>95%</td>\n      <td>Disarankan</td>\n    </tr>\n    <tr>\n      <th>98</th>\n      <td>deapandhita@gmail.com</td>\n      <td>nan</td>\n      <td>Regina Dea Pandhita Putri</td>\n      <td>6</td>\n      <td>3</td>\n      <td>4</td>\n      <td>6</td>\n      <td>5</td>\n      <td>6</td>\n      <td>6</td>\n      <td>...</td>\n      <td>3</td>\n      <td>2</td>\n      <td>3</td>\n      <td>3</td>\n      <td>3</td>\n      <td>3</td>\n      <td>3</td>\n      <td>standar</td>\n      <td>95%</td>\n      <td>Disarankan</td>\n    </tr>\n    <tr>\n      <th>99</th>\n      <td>dhiaulfa.thufaila@gmail.com</td>\n      <td>nan</td>\n      <td>Dhiaulfa Thufaila</td>\n      <td>5</td>\n      <td>2</td>\n      <td>0</td>\n      <td>9</td>\n      <td>4</td>\n      <td>6</td>\n      <td>4</td>\n      <td>...</td>\n      <td>2</td>\n      <td>2</td>\n      <td>2</td>\n      <td>3</td>\n      <td>3</td>\n      <td>4</td>\n      <td>3</td>\n      <td>standar</td>\n      <td>87%</td>\n      <td>Disarankan</td>\n    </tr>\n    <tr>\n      <th>100</th>\n      <td>dwidanaribrahim@gmail.com</td>\n      <td>nan</td>\n      <td>DWI DANAR IBRAHIM</td>\n      <td>9</td>\n      <td>3</td>\n      <td>3</td>\n      <td>4</td>\n      <td>5</td>\n      <td>4</td>\n      <td>8</td>\n      <td>...</td>\n      <td>2</td>\n      <td>3</td>\n      <td>4</td>\n      <td>2</td>\n      <td>3</td>\n      <td>3</td>\n      <td>3</td>\n      <td>standar</td>\n      <td>92%</td>\n      <td>Disarankan</td>\n    </tr>\n  </tbody>\n</table>\n<p>100 rows × 67 columns</p>\n</div>"
     },
     "execution_count": 31,
     "metadata": {},
     "output_type": "execute_result"
    }
   ],
   "source": [
    "df = df.loc[:, 'Email':'hasil_rekomendasi']\n",
    "df = df.drop('Project', 1)\n",
    "df['key'] = df['key'].astype('str')\n",
    "df.index += 1\n",
    "df.drop(101, 0)"
   ],
   "metadata": {
    "collapsed": false,
    "pycharm": {
     "name": "#%%\n"
    }
   }
  },
  {
   "cell_type": "code",
   "execution_count": 32,
   "outputs": [
    {
     "name": "stderr",
     "output_type": "stream",
     "text": [
      "C:\\Users\\sakur\\AppData\\Local\\Programs\\Python\\Python39\\lib\\site-packages\\torch\\autocast_mode.py:162: UserWarning: User provided device_type of 'cuda', but CUDA is not available. Disabling\n",
      "  warnings.warn('User provided device_type of \\'cuda\\', but CUDA is not available. Disabling')\n",
      "\n"
     ]
    },
    {
     "ename": "FileNotFoundError",
     "evalue": "no such file: 'sample/analysis/101.pdf'",
     "output_type": "error",
     "traceback": [
      "\u001B[1;31m---------------------------------------------------------------------------\u001B[0m",
      "\u001B[1;31mFileNotFoundError\u001B[0m                         Traceback (most recent call last)",
      "Input \u001B[1;32mIn [32]\u001B[0m, in \u001B[0;36m<cell line: 1>\u001B[1;34m()\u001B[0m\n\u001B[0;32m      1\u001B[0m \u001B[38;5;28;01mfor\u001B[39;00m i, row \u001B[38;5;129;01min\u001B[39;00m df\u001B[38;5;241m.\u001B[39miterrows():\n\u001B[1;32m----> 2\u001B[0m     text \u001B[38;5;241m=\u001B[39m \u001B[43mextract_text\u001B[49m\u001B[43m(\u001B[49m\u001B[38;5;124;43m'\u001B[39;49m\u001B[38;5;124;43msample/analysis/\u001B[39;49m\u001B[38;5;132;43;01m{}\u001B[39;49;00m\u001B[38;5;124;43m.pdf\u001B[39;49m\u001B[38;5;124;43m'\u001B[39;49m\u001B[38;5;241;43m.\u001B[39;49m\u001B[43mformat\u001B[49m\u001B[43m(\u001B[49m\u001B[43mi\u001B[49m\u001B[43m)\u001B[49m\u001B[43m)\u001B[49m\n\u001B[0;32m      3\u001B[0m     job \u001B[38;5;241m=\u001B[39m extract_job(text, nlp)\n\u001B[0;32m      4\u001B[0m     text \u001B[38;5;241m=\u001B[39m \u001B[38;5;124m\"\u001B[39m\u001B[38;5;124m \u001B[39m\u001B[38;5;124m\"\u001B[39m\n",
      "Input \u001B[1;32mIn [27]\u001B[0m, in \u001B[0;36mextract_text\u001B[1;34m(filePath, remove_line)\u001B[0m\n\u001B[0;32m      1\u001B[0m \u001B[38;5;28;01mdef\u001B[39;00m \u001B[38;5;21mextract_text\u001B[39m(filePath, remove_line\u001B[38;5;241m=\u001B[39m\u001B[38;5;28;01mFalse\u001B[39;00m):\n\u001B[1;32m----> 2\u001B[0m     \u001B[38;5;28;01mwith\u001B[39;00m \u001B[43mfitz\u001B[49m\u001B[38;5;241;43m.\u001B[39;49m\u001B[43mopen\u001B[49m\u001B[43m(\u001B[49m\u001B[43mfilePath\u001B[49m\u001B[43m)\u001B[49m \u001B[38;5;28;01mas\u001B[39;00m doc:\n\u001B[0;32m      3\u001B[0m         finaltext \u001B[38;5;241m=\u001B[39m \u001B[38;5;124m\"\u001B[39m\u001B[38;5;124m\"\u001B[39m\n\u001B[0;32m      4\u001B[0m         \u001B[38;5;28;01mfor\u001B[39;00m page \u001B[38;5;129;01min\u001B[39;00m doc:\n",
      "File \u001B[1;32m~\\AppData\\Local\\Programs\\Python\\Python39\\lib\\site-packages\\fitz\\fitz.py:3990\u001B[0m, in \u001B[0;36mDocument.__init__\u001B[1;34m(self, filename, stream, filetype, rect, width, height, fontsize)\u001B[0m\n\u001B[0;32m   3988\u001B[0m \u001B[38;5;28;01mif\u001B[39;00m \u001B[38;5;129;01mnot\u001B[39;00m os\u001B[38;5;241m.\u001B[39mpath\u001B[38;5;241m.\u001B[39mexists(filename):\n\u001B[0;32m   3989\u001B[0m     msg \u001B[38;5;241m=\u001B[39m \u001B[38;5;124mf\u001B[39m\u001B[38;5;124m\"\u001B[39m\u001B[38;5;124mno such file: \u001B[39m\u001B[38;5;124m'\u001B[39m\u001B[38;5;132;01m{\u001B[39;00mfilename\u001B[38;5;132;01m}\u001B[39;00m\u001B[38;5;124m'\u001B[39m\u001B[38;5;124m\"\u001B[39m\n\u001B[1;32m-> 3990\u001B[0m     \u001B[38;5;28;01mraise\u001B[39;00m \u001B[38;5;167;01mFileNotFoundError\u001B[39;00m(msg)\n\u001B[0;32m   3991\u001B[0m \u001B[38;5;28;01melif\u001B[39;00m \u001B[38;5;129;01mnot\u001B[39;00m os\u001B[38;5;241m.\u001B[39mpath\u001B[38;5;241m.\u001B[39misfile(filename):\n\u001B[0;32m   3992\u001B[0m     msg \u001B[38;5;241m=\u001B[39m \u001B[38;5;124mf\u001B[39m\u001B[38;5;124m\"\u001B[39m\u001B[38;5;124m'\u001B[39m\u001B[38;5;132;01m{\u001B[39;00mfilename\u001B[38;5;132;01m}\u001B[39;00m\u001B[38;5;124m'\u001B[39m\u001B[38;5;124m is no file\u001B[39m\u001B[38;5;124m\"\u001B[39m\n",
      "\u001B[1;31mFileNotFoundError\u001B[0m: no such file: 'sample/analysis/101.pdf'"
     ]
    }
   ],
   "source": [
    "for i, row in df.iterrows():\n",
    "    text = extract_text('sample/analysis/{}.pdf'.format(i))\n",
    "    job = extract_job(text, nlp)\n",
    "    text = \" \"\n",
    "\n",
    "    for skill in job:\n",
    "        text += skill + \" \"\n",
    "\n",
    "    df.at[i, 'key'] = text\n",
    "\n",
    "df.head()"
   ],
   "metadata": {
    "collapsed": false,
    "pycharm": {
     "name": "#%%\n"
    }
   }
  },
  {
   "cell_type": "code",
   "execution_count": 34,
   "outputs": [
    {
     "name": "stderr",
     "output_type": "stream",
     "text": [
      "C:\\Users\\sakur\\AppData\\Local\\Temp\\ipykernel_9620\\3876201396.py:1: FutureWarning: In a future version of pandas all arguments of DataFrame.drop except for the argument 'labels' will be keyword-only.\n",
      "  df = df.drop([22, 31, 58, 65, 68, 80, 101], 0)\n",
      "\n"
     ]
    }
   ],
   "source": [
    "df = df.drop([22, 31, 58, 65, 68, 80, 101], 0)"
   ],
   "metadata": {
    "collapsed": false,
    "pycharm": {
     "name": "#%%\n"
    }
   }
  },
  {
   "cell_type": "code",
   "execution_count": 37,
   "outputs": [],
   "source": [
    "df.to_csv('train.csv')"
   ],
   "metadata": {
    "collapsed": false,
    "pycharm": {
     "name": "#%%\n"
    }
   }
  },
  {
   "cell_type": "code",
   "execution_count": 11,
   "outputs": [],
   "source": [
    "disc = ['Nama Peserta', 'key', 'MD', 'MI', 'MS', 'MC', 'LD', 'LS', 'LC', 'CD', 'CI', 'CS', 'CC', 'Grafik1', 'Grafik2', 'Grafik3', 'Hasil']\n",
    "gtq = ['Nama Peserta', 'key', 'GTQ1', 'GTQ2', 'GTQ3', 'GTQ4', 'GTQ5', 'Average GTQ']\n",
    "ss = ['Nama Peserta', 'key', 'SS1', 'SS2', 'SS3', 'SS4', 'Jumlah', 'IQ']\n",
    "work = ['Nama Peserta', 'key', 'N', 'G', 'A', 'L', 'P', 'I', 'T', 'V', 'X', 'S', 'B', 'O', 'R', 'D', 'C', 'Z', 'E', 'K', 'F', 'W', 'DAYA_ANALISA', 'FLEXIBILITAS', 'KEMAMPUAN_MEMIMPIN', 'KEMAMPUAN_NUMERIKAL', 'KEMAMPUAN_PERENCANAAN', 'KEMAMPUAN_VERBAL', 'KERJASAMA', 'KETERAMPILAN_INTERPERSONAL', 'LOGIKA_BERPIKIR', 'MOTIVASI_BERPRESTASI', 'ORIENTASI_HASIL', 'PENYELESAIAN_MASALAH', 'SISTEMATIKA_KERJA', 'pil_jabatan', 'prosen_kecocokan', 'hasil_rekomendasi']\n",
    "\n",
    "df_disc = df.loc[:, disc]\n",
    "df_gtq = df.loc[:, gtq]\n",
    "df_ss = df.loc[:, ss]\n",
    "df_work = df.loc[:, work]"
   ],
   "metadata": {
    "collapsed": false,
    "pycharm": {
     "name": "#%%\n"
    }
   }
  },
  {
   "cell_type": "code",
   "execution_count": 12,
   "outputs": [],
   "source": [
    "with pd.ExcelWriter('data.xlsx') as writer:\n",
    "    df_disc.to_excel(writer, sheet_name='DISC')\n",
    "    df_gtq.to_excel(writer, sheet_name='GTQ')\n",
    "    df_ss.to_excel(writer, sheet_name='SS')\n",
    "    df_work.to_excel(writer, sheet_name='WORK')"
   ],
   "metadata": {
    "collapsed": false,
    "pycharm": {
     "name": "#%%\n"
    }
   }
  }
 ],
 "metadata": {
  "kernelspec": {
   "display_name": "Python 3",
   "language": "python",
   "name": "python3"
  },
  "language_info": {
   "codemirror_mode": {
    "name": "ipython",
    "version": 2
   },
   "file_extension": ".py",
   "mimetype": "text/x-python",
   "name": "python",
   "nbconvert_exporter": "python",
   "pygments_lexer": "ipython2",
   "version": "2.7.6"
  }
 },
 "nbformat": 4,
 "nbformat_minor": 0
}