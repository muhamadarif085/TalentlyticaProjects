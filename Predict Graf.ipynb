{
 "cells": [
  {
   "cell_type": "code",
   "execution_count": 1,
   "outputs": [],
   "source": [
    "import os\n",
    "import pickle\n",
    "import sklearn\n",
    "import pandas as pd"
   ],
   "metadata": {
    "collapsed": false,
    "pycharm": {
     "name": "#%%\n"
    }
   }
  },
  {
   "cell_type": "code",
   "execution_count": 4,
   "outputs": [],
   "source": [
    "def predict_graf(df, M_model, L_model, C_model):\n",
    "        for i, row in df.iterrows():\n",
    "                df.at[i, 'CD'] = df.at[i, 'MD'] - df.at[i, 'LD']\n",
    "                df.at[i, 'CI'] = df.at[i, 'MI'] - df.at[i, 'LI']\n",
    "                df.at[i, 'CS'] = df.at[i, 'MS'] - df.at[i, 'LS']\n",
    "                df.at[i, 'CC'] = df.at[i, 'MC'] - df.at[i, 'LC']\n",
    "\n",
    "                df.at[i, 'Graf1'] = M_model.predict(df.iloc[[i], lambda df : [1,2,3,4]])[0]\n",
    "                df.at[i, 'Graf2'] = L_model.predict(df.iloc[[i], lambda df : [5,6,7,8]])[0]\n",
    "                df.at[i, 'Graf3'] = C_model.predict(df.iloc[[i], lambda df : [9,10,11,12]])[0]\n",
    "\n",
    "                df.at[i, 'Hasil'] = df.at[i, 'Graf3']\n",
    "\n",
    "        return  df"
   ],
   "metadata": {
    "collapsed": false,
    "pycharm": {
     "name": "#%%\n"
    }
   }
  },
  {
   "cell_type": "code",
   "execution_count": 2,
   "outputs": [
    {
     "data": {
      "text/plain": "     Name  MD  MI  MS  MC  LD  LI  LS  LC  CD  CI  CS  CC Graf1 Graf2 Graf3  \\\n0    Agus   7   3   3   3   4   6   5   3   1   1   1   1     s     s     s   \n1  Steven   7   9   2   3   5   4   8   2   1   1   1   1     s     s     s   \n\n  Hasil  \n0     s  \n1     s  ",
      "text/html": "<div>\n<style scoped>\n    .dataframe tbody tr th:only-of-type {\n        vertical-align: middle;\n    }\n\n    .dataframe tbody tr th {\n        vertical-align: top;\n    }\n\n    .dataframe thead th {\n        text-align: right;\n    }\n</style>\n<table border=\"1\" class=\"dataframe\">\n  <thead>\n    <tr style=\"text-align: right;\">\n      <th></th>\n      <th>Name</th>\n      <th>MD</th>\n      <th>MI</th>\n      <th>MS</th>\n      <th>MC</th>\n      <th>LD</th>\n      <th>LI</th>\n      <th>LS</th>\n      <th>LC</th>\n      <th>CD</th>\n      <th>CI</th>\n      <th>CS</th>\n      <th>CC</th>\n      <th>Graf1</th>\n      <th>Graf2</th>\n      <th>Graf3</th>\n      <th>Hasil</th>\n    </tr>\n  </thead>\n  <tbody>\n    <tr>\n      <th>0</th>\n      <td>Agus</td>\n      <td>7</td>\n      <td>3</td>\n      <td>3</td>\n      <td>3</td>\n      <td>4</td>\n      <td>6</td>\n      <td>5</td>\n      <td>3</td>\n      <td>1</td>\n      <td>1</td>\n      <td>1</td>\n      <td>1</td>\n      <td>s</td>\n      <td>s</td>\n      <td>s</td>\n      <td>s</td>\n    </tr>\n    <tr>\n      <th>1</th>\n      <td>Steven</td>\n      <td>7</td>\n      <td>9</td>\n      <td>2</td>\n      <td>3</td>\n      <td>5</td>\n      <td>4</td>\n      <td>8</td>\n      <td>2</td>\n      <td>1</td>\n      <td>1</td>\n      <td>1</td>\n      <td>1</td>\n      <td>s</td>\n      <td>s</td>\n      <td>s</td>\n      <td>s</td>\n    </tr>\n  </tbody>\n</table>\n</div>"
     },
     "execution_count": 2,
     "metadata": {},
     "output_type": "execute_result"
    }
   ],
   "source": [
    "M_model = pickle.load(open('model/graf/Graf1_M.sav', 'rb'))\n",
    "L_model = pickle.load(open('model/graf/Graf2_L.sav', 'rb'))\n",
    "C_model = pickle.load(open('model/graf/Graf3_C.sav', 'rb'))\n",
    "\n",
    "data = {\"Name\" : ['Agus', 'Steven'],\n",
    "        \"MD\" : [7, 7],\n",
    "        \"MI\" : [3, 9],\n",
    "        \"MS\" : [3, 2],\n",
    "        \"MC\" : [3, 3],\n",
    "        \"LD\" : [4, 5],\n",
    "        \"LI\" : [6, 4],\n",
    "        \"LS\" : [5, 8],\n",
    "        \"LC\" : [3, 2],\n",
    "        \"CD\" : [1, 1],\n",
    "        \"CI\" : [1, 1],\n",
    "        \"CS\" : [1, 1],\n",
    "        \"CC\" : [1, 1],\n",
    "        \"Graf1\" : ['s', 's'],\n",
    "        \"Graf2\" : ['s', 's'],\n",
    "        \"Graf3\" : ['s', 's'],\n",
    "        \"Hasil\" : ['s', 's']}\n",
    "\n",
    "df = pd.DataFrame(data)\n",
    "df.head()"
   ],
   "metadata": {
    "collapsed": false,
    "pycharm": {
     "name": "#%%\n"
    }
   }
  },
  {
   "cell_type": "code",
   "execution_count": 5,
   "outputs": [
    {
     "data": {
      "text/plain": "     Name  MD  MI  MS  MC  LD  LI  LS  LC  CD  CI  CS  CC  Graf1 Graf2  Graf3  \\\n0    Agus   7   3   3   3   4   6   5   3   3  -3  -2   0  tight   CDS  tight   \n1  Steven   7   9   2   3   5   4   8   2   2   5  -6   1     ID   CDI    CID   \n\n   Hasil  \n0  tight  \n1    CID  ",
      "text/html": "<div>\n<style scoped>\n    .dataframe tbody tr th:only-of-type {\n        vertical-align: middle;\n    }\n\n    .dataframe tbody tr th {\n        vertical-align: top;\n    }\n\n    .dataframe thead th {\n        text-align: right;\n    }\n</style>\n<table border=\"1\" class=\"dataframe\">\n  <thead>\n    <tr style=\"text-align: right;\">\n      <th></th>\n      <th>Name</th>\n      <th>MD</th>\n      <th>MI</th>\n      <th>MS</th>\n      <th>MC</th>\n      <th>LD</th>\n      <th>LI</th>\n      <th>LS</th>\n      <th>LC</th>\n      <th>CD</th>\n      <th>CI</th>\n      <th>CS</th>\n      <th>CC</th>\n      <th>Graf1</th>\n      <th>Graf2</th>\n      <th>Graf3</th>\n      <th>Hasil</th>\n    </tr>\n  </thead>\n  <tbody>\n    <tr>\n      <th>0</th>\n      <td>Agus</td>\n      <td>7</td>\n      <td>3</td>\n      <td>3</td>\n      <td>3</td>\n      <td>4</td>\n      <td>6</td>\n      <td>5</td>\n      <td>3</td>\n      <td>3</td>\n      <td>-3</td>\n      <td>-2</td>\n      <td>0</td>\n      <td>tight</td>\n      <td>CDS</td>\n      <td>tight</td>\n      <td>tight</td>\n    </tr>\n    <tr>\n      <th>1</th>\n      <td>Steven</td>\n      <td>7</td>\n      <td>9</td>\n      <td>2</td>\n      <td>3</td>\n      <td>5</td>\n      <td>4</td>\n      <td>8</td>\n      <td>2</td>\n      <td>2</td>\n      <td>5</td>\n      <td>-6</td>\n      <td>1</td>\n      <td>ID</td>\n      <td>CDI</td>\n      <td>CID</td>\n      <td>CID</td>\n    </tr>\n  </tbody>\n</table>\n</div>"
     },
     "execution_count": 5,
     "metadata": {},
     "output_type": "execute_result"
    }
   ],
   "source": [
    "data = predict_graf(df, M_model, L_model, C_model)\n",
    "data.head()"
   ],
   "metadata": {
    "collapsed": false,
    "pycharm": {
     "name": "#%%\n"
    }
   }
  }
 ],
 "metadata": {
  "kernelspec": {
   "display_name": "Python 3",
   "language": "python",
   "name": "python3"
  },
  "language_info": {
   "codemirror_mode": {
    "name": "ipython",
    "version": 2
   },
   "file_extension": ".py",
   "mimetype": "text/x-python",
   "name": "python",
   "nbconvert_exporter": "python",
   "pygments_lexer": "ipython2",
   "version": "2.7.6"
  }
 },
 "nbformat": 4,
 "nbformat_minor": 0
}