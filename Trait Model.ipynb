{
 "cells": [
  {
   "cell_type": "code",
   "execution_count": 11,
   "metadata": {
    "collapsed": true,
    "pycharm": {
     "name": "#%%\n"
    }
   },
   "outputs": [
    {
     "ename": "KeyboardInterrupt",
     "evalue": "",
     "output_type": "error",
     "traceback": [
      "\u001B[1;31m---------------------------------------------------------------------------\u001B[0m",
      "\u001B[1;31mKeyboardInterrupt\u001B[0m                         Traceback (most recent call last)",
      "Input \u001B[1;32mIn [11]\u001B[0m, in \u001B[0;36m<cell line: 16>\u001B[1;34m()\u001B[0m\n\u001B[0;32m     13\u001B[0m \u001B[38;5;28;01mfrom\u001B[39;00m \u001B[38;5;21;01msklearn\u001B[39;00m\u001B[38;5;21;01m.\u001B[39;00m\u001B[38;5;21;01mpreprocessing\u001B[39;00m \u001B[38;5;28;01mimport\u001B[39;00m StandardScaler\n\u001B[0;32m     14\u001B[0m \u001B[38;5;28;01mfrom\u001B[39;00m \u001B[38;5;21;01mscipy\u001B[39;00m \u001B[38;5;28;01mimport\u001B[39;00m stats\n\u001B[1;32m---> 16\u001B[0m nlp \u001B[38;5;241m=\u001B[39m \u001B[43mspacy\u001B[49m\u001B[38;5;241;43m.\u001B[39;49m\u001B[43mload\u001B[49m\u001B[43m(\u001B[49m\u001B[38;5;124;43m'\u001B[39;49m\u001B[38;5;124;43mmodel/model_job\u001B[39;49m\u001B[38;5;124;43m'\u001B[39;49m\u001B[43m)\u001B[49m\n",
      "File \u001B[1;32m~\\AppData\\Local\\Programs\\Python\\Python39\\lib\\site-packages\\spacy\\__init__.py:51\u001B[0m, in \u001B[0;36mload\u001B[1;34m(name, vocab, disable, exclude, config)\u001B[0m\n\u001B[0;32m     30\u001B[0m \u001B[38;5;28;01mdef\u001B[39;00m \u001B[38;5;21mload\u001B[39m(\n\u001B[0;32m     31\u001B[0m     name: Union[\u001B[38;5;28mstr\u001B[39m, Path],\n\u001B[0;32m     32\u001B[0m     \u001B[38;5;241m*\u001B[39m,\n\u001B[1;32m   (...)\u001B[0m\n\u001B[0;32m     36\u001B[0m     config: Union[Dict[\u001B[38;5;28mstr\u001B[39m, Any], Config] \u001B[38;5;241m=\u001B[39m util\u001B[38;5;241m.\u001B[39mSimpleFrozenDict(),\n\u001B[0;32m     37\u001B[0m ) \u001B[38;5;241m-\u001B[39m\u001B[38;5;241m>\u001B[39m Language:\n\u001B[0;32m     38\u001B[0m     \u001B[38;5;124;03m\"\"\"Load a spaCy model from an installed package or a local path.\u001B[39;00m\n\u001B[0;32m     39\u001B[0m \n\u001B[0;32m     40\u001B[0m \u001B[38;5;124;03m    name (str): Package name or model path.\u001B[39;00m\n\u001B[1;32m   (...)\u001B[0m\n\u001B[0;32m     49\u001B[0m \u001B[38;5;124;03m    RETURNS (Language): The loaded nlp object.\u001B[39;00m\n\u001B[0;32m     50\u001B[0m \u001B[38;5;124;03m    \"\"\"\u001B[39;00m\n\u001B[1;32m---> 51\u001B[0m     \u001B[38;5;28;01mreturn\u001B[39;00m \u001B[43mutil\u001B[49m\u001B[38;5;241;43m.\u001B[39;49m\u001B[43mload_model\u001B[49m\u001B[43m(\u001B[49m\n\u001B[0;32m     52\u001B[0m \u001B[43m        \u001B[49m\u001B[43mname\u001B[49m\u001B[43m,\u001B[49m\u001B[43m \u001B[49m\u001B[43mvocab\u001B[49m\u001B[38;5;241;43m=\u001B[39;49m\u001B[43mvocab\u001B[49m\u001B[43m,\u001B[49m\u001B[43m \u001B[49m\u001B[43mdisable\u001B[49m\u001B[38;5;241;43m=\u001B[39;49m\u001B[43mdisable\u001B[49m\u001B[43m,\u001B[49m\u001B[43m \u001B[49m\u001B[43mexclude\u001B[49m\u001B[38;5;241;43m=\u001B[39;49m\u001B[43mexclude\u001B[49m\u001B[43m,\u001B[49m\u001B[43m \u001B[49m\u001B[43mconfig\u001B[49m\u001B[38;5;241;43m=\u001B[39;49m\u001B[43mconfig\u001B[49m\n\u001B[0;32m     53\u001B[0m \u001B[43m    \u001B[49m\u001B[43m)\u001B[49m\n",
      "File \u001B[1;32m~\\AppData\\Local\\Programs\\Python\\Python39\\lib\\site-packages\\spacy\\util.py:422\u001B[0m, in \u001B[0;36mload_model\u001B[1;34m(name, vocab, disable, exclude, config)\u001B[0m\n\u001B[0;32m    420\u001B[0m         \u001B[38;5;28;01mreturn\u001B[39;00m load_model_from_package(name, \u001B[38;5;241m*\u001B[39m\u001B[38;5;241m*\u001B[39mkwargs)  \u001B[38;5;66;03m# type: ignore[arg-type]\u001B[39;00m\n\u001B[0;32m    421\u001B[0m     \u001B[38;5;28;01mif\u001B[39;00m Path(name)\u001B[38;5;241m.\u001B[39mexists():  \u001B[38;5;66;03m# path to model data directory\u001B[39;00m\n\u001B[1;32m--> 422\u001B[0m         \u001B[38;5;28;01mreturn\u001B[39;00m load_model_from_path(Path(name), \u001B[38;5;241m*\u001B[39m\u001B[38;5;241m*\u001B[39mkwargs)  \u001B[38;5;66;03m# type: ignore[arg-type]\u001B[39;00m\n\u001B[0;32m    423\u001B[0m \u001B[38;5;28;01melif\u001B[39;00m \u001B[38;5;28mhasattr\u001B[39m(name, \u001B[38;5;124m\"\u001B[39m\u001B[38;5;124mexists\u001B[39m\u001B[38;5;124m\"\u001B[39m):  \u001B[38;5;66;03m# Path or Path-like to model data\u001B[39;00m\n\u001B[0;32m    424\u001B[0m     \u001B[38;5;28;01mreturn\u001B[39;00m load_model_from_path(name, \u001B[38;5;241m*\u001B[39m\u001B[38;5;241m*\u001B[39mkwargs)  \u001B[38;5;66;03m# type: ignore[arg-type]\u001B[39;00m\n",
      "File \u001B[1;32m~\\AppData\\Local\\Programs\\Python\\Python39\\lib\\site-packages\\spacy\\util.py:491\u001B[0m, in \u001B[0;36mload_model_from_path\u001B[1;34m(model_path, meta, vocab, disable, exclude, config)\u001B[0m\n\u001B[0;32m    487\u001B[0m config \u001B[38;5;241m=\u001B[39m load_config(config_path, overrides\u001B[38;5;241m=\u001B[39moverrides)\n\u001B[0;32m    488\u001B[0m nlp \u001B[38;5;241m=\u001B[39m load_model_from_config(\n\u001B[0;32m    489\u001B[0m     config, vocab\u001B[38;5;241m=\u001B[39mvocab, disable\u001B[38;5;241m=\u001B[39mdisable, exclude\u001B[38;5;241m=\u001B[39mexclude, meta\u001B[38;5;241m=\u001B[39mmeta\n\u001B[0;32m    490\u001B[0m )\n\u001B[1;32m--> 491\u001B[0m \u001B[38;5;28;01mreturn\u001B[39;00m \u001B[43mnlp\u001B[49m\u001B[38;5;241;43m.\u001B[39;49m\u001B[43mfrom_disk\u001B[49m\u001B[43m(\u001B[49m\u001B[43mmodel_path\u001B[49m\u001B[43m,\u001B[49m\u001B[43m \u001B[49m\u001B[43mexclude\u001B[49m\u001B[38;5;241;43m=\u001B[39;49m\u001B[43mexclude\u001B[49m\u001B[43m,\u001B[49m\u001B[43m \u001B[49m\u001B[43moverrides\u001B[49m\u001B[38;5;241;43m=\u001B[39;49m\u001B[43moverrides\u001B[49m\u001B[43m)\u001B[49m\n",
      "File \u001B[1;32m~\\AppData\\Local\\Programs\\Python\\Python39\\lib\\site-packages\\spacy\\language.py:2043\u001B[0m, in \u001B[0;36mLanguage.from_disk\u001B[1;34m(self, path, exclude, overrides)\u001B[0m\n\u001B[0;32m   2040\u001B[0m \u001B[38;5;28;01mif\u001B[39;00m \u001B[38;5;129;01mnot\u001B[39;00m (path \u001B[38;5;241m/\u001B[39m \u001B[38;5;124m\"\u001B[39m\u001B[38;5;124mvocab\u001B[39m\u001B[38;5;124m\"\u001B[39m)\u001B[38;5;241m.\u001B[39mexists() \u001B[38;5;129;01mand\u001B[39;00m \u001B[38;5;124m\"\u001B[39m\u001B[38;5;124mvocab\u001B[39m\u001B[38;5;124m\"\u001B[39m \u001B[38;5;129;01mnot\u001B[39;00m \u001B[38;5;129;01min\u001B[39;00m exclude:  \u001B[38;5;66;03m# type: ignore[operator]\u001B[39;00m\n\u001B[0;32m   2041\u001B[0m     \u001B[38;5;66;03m# Convert to list here in case exclude is (default) tuple\u001B[39;00m\n\u001B[0;32m   2042\u001B[0m     exclude \u001B[38;5;241m=\u001B[39m \u001B[38;5;28mlist\u001B[39m(exclude) \u001B[38;5;241m+\u001B[39m [\u001B[38;5;124m\"\u001B[39m\u001B[38;5;124mvocab\u001B[39m\u001B[38;5;124m\"\u001B[39m]\n\u001B[1;32m-> 2043\u001B[0m \u001B[43mutil\u001B[49m\u001B[38;5;241;43m.\u001B[39;49m\u001B[43mfrom_disk\u001B[49m\u001B[43m(\u001B[49m\u001B[43mpath\u001B[49m\u001B[43m,\u001B[49m\u001B[43m \u001B[49m\u001B[43mdeserializers\u001B[49m\u001B[43m,\u001B[49m\u001B[43m \u001B[49m\u001B[43mexclude\u001B[49m\u001B[43m)\u001B[49m  \u001B[38;5;66;03m# type: ignore[arg-type]\u001B[39;00m\n\u001B[0;32m   2044\u001B[0m \u001B[38;5;28mself\u001B[39m\u001B[38;5;241m.\u001B[39m_path \u001B[38;5;241m=\u001B[39m path  \u001B[38;5;66;03m# type: ignore[assignment]\u001B[39;00m\n\u001B[0;32m   2045\u001B[0m \u001B[38;5;28mself\u001B[39m\u001B[38;5;241m.\u001B[39m_link_components()\n",
      "File \u001B[1;32m~\\AppData\\Local\\Programs\\Python\\Python39\\lib\\site-packages\\spacy\\util.py:1303\u001B[0m, in \u001B[0;36mfrom_disk\u001B[1;34m(path, readers, exclude)\u001B[0m\n\u001B[0;32m   1300\u001B[0m \u001B[38;5;28;01mfor\u001B[39;00m key, reader \u001B[38;5;129;01min\u001B[39;00m readers\u001B[38;5;241m.\u001B[39mitems():\n\u001B[0;32m   1301\u001B[0m     \u001B[38;5;66;03m# Split to support file names like meta.json\u001B[39;00m\n\u001B[0;32m   1302\u001B[0m     \u001B[38;5;28;01mif\u001B[39;00m key\u001B[38;5;241m.\u001B[39msplit(\u001B[38;5;124m\"\u001B[39m\u001B[38;5;124m.\u001B[39m\u001B[38;5;124m\"\u001B[39m)[\u001B[38;5;241m0\u001B[39m] \u001B[38;5;129;01mnot\u001B[39;00m \u001B[38;5;129;01min\u001B[39;00m exclude:\n\u001B[1;32m-> 1303\u001B[0m         \u001B[43mreader\u001B[49m\u001B[43m(\u001B[49m\u001B[43mpath\u001B[49m\u001B[43m \u001B[49m\u001B[38;5;241;43m/\u001B[39;49m\u001B[43m \u001B[49m\u001B[43mkey\u001B[49m\u001B[43m)\u001B[49m\n\u001B[0;32m   1304\u001B[0m \u001B[38;5;28;01mreturn\u001B[39;00m path\n",
      "File \u001B[1;32m~\\AppData\\Local\\Programs\\Python\\Python39\\lib\\site-packages\\spacy\\language.py:2037\u001B[0m, in \u001B[0;36mLanguage.from_disk.<locals>.<lambda>\u001B[1;34m(p, proc)\u001B[0m\n\u001B[0;32m   2035\u001B[0m     \u001B[38;5;28;01mif\u001B[39;00m \u001B[38;5;129;01mnot\u001B[39;00m \u001B[38;5;28mhasattr\u001B[39m(proc, \u001B[38;5;124m\"\u001B[39m\u001B[38;5;124mfrom_disk\u001B[39m\u001B[38;5;124m\"\u001B[39m):\n\u001B[0;32m   2036\u001B[0m         \u001B[38;5;28;01mcontinue\u001B[39;00m\n\u001B[1;32m-> 2037\u001B[0m     deserializers[name] \u001B[38;5;241m=\u001B[39m \u001B[38;5;28;01mlambda\u001B[39;00m p, proc\u001B[38;5;241m=\u001B[39mproc: \u001B[43mproc\u001B[49m\u001B[38;5;241;43m.\u001B[39;49m\u001B[43mfrom_disk\u001B[49m\u001B[43m(\u001B[49m\u001B[43m  \u001B[49m\u001B[38;5;66;43;03m# type: ignore[misc]\u001B[39;49;00m\n\u001B[0;32m   2038\u001B[0m \u001B[43m        \u001B[49m\u001B[43mp\u001B[49m\u001B[43m,\u001B[49m\u001B[43m \u001B[49m\u001B[43mexclude\u001B[49m\u001B[38;5;241;43m=\u001B[39;49m\u001B[43m[\u001B[49m\u001B[38;5;124;43m\"\u001B[39;49m\u001B[38;5;124;43mvocab\u001B[39;49m\u001B[38;5;124;43m\"\u001B[39;49m\u001B[43m]\u001B[49m\n\u001B[0;32m   2039\u001B[0m \u001B[43m    \u001B[49m\u001B[43m)\u001B[49m\n\u001B[0;32m   2040\u001B[0m \u001B[38;5;28;01mif\u001B[39;00m \u001B[38;5;129;01mnot\u001B[39;00m (path \u001B[38;5;241m/\u001B[39m \u001B[38;5;124m\"\u001B[39m\u001B[38;5;124mvocab\u001B[39m\u001B[38;5;124m\"\u001B[39m)\u001B[38;5;241m.\u001B[39mexists() \u001B[38;5;129;01mand\u001B[39;00m \u001B[38;5;124m\"\u001B[39m\u001B[38;5;124mvocab\u001B[39m\u001B[38;5;124m\"\u001B[39m \u001B[38;5;129;01mnot\u001B[39;00m \u001B[38;5;129;01min\u001B[39;00m exclude:  \u001B[38;5;66;03m# type: ignore[operator]\u001B[39;00m\n\u001B[0;32m   2041\u001B[0m     \u001B[38;5;66;03m# Convert to list here in case exclude is (default) tuple\u001B[39;00m\n\u001B[0;32m   2042\u001B[0m     exclude \u001B[38;5;241m=\u001B[39m \u001B[38;5;28mlist\u001B[39m(exclude) \u001B[38;5;241m+\u001B[39m [\u001B[38;5;124m\"\u001B[39m\u001B[38;5;124mvocab\u001B[39m\u001B[38;5;124m\"\u001B[39m]\n",
      "File \u001B[1;32m~\\AppData\\Local\\Programs\\Python\\Python39\\lib\\site-packages\\spacy_transformers\\pipeline_component.py:420\u001B[0m, in \u001B[0;36mTransformer.from_disk\u001B[1;34m(self, path, exclude)\u001B[0m\n\u001B[0;32m    413\u001B[0m         \u001B[38;5;28mself\u001B[39m\u001B[38;5;241m.\u001B[39mmodel\u001B[38;5;241m.\u001B[39mattrs[\u001B[38;5;124m\"\u001B[39m\u001B[38;5;124mset_transformer\u001B[39m\u001B[38;5;124m\"\u001B[39m](\u001B[38;5;28mself\u001B[39m\u001B[38;5;241m.\u001B[39mmodel, hf_model)\n\u001B[0;32m    415\u001B[0m deserialize \u001B[38;5;241m=\u001B[39m {\n\u001B[0;32m    416\u001B[0m     \u001B[38;5;124m\"\u001B[39m\u001B[38;5;124mvocab\u001B[39m\u001B[38;5;124m\"\u001B[39m: \u001B[38;5;28mself\u001B[39m\u001B[38;5;241m.\u001B[39mvocab\u001B[38;5;241m.\u001B[39mfrom_disk,\n\u001B[0;32m    417\u001B[0m     \u001B[38;5;124m\"\u001B[39m\u001B[38;5;124mcfg\u001B[39m\u001B[38;5;124m\"\u001B[39m: \u001B[38;5;28;01mlambda\u001B[39;00m p: \u001B[38;5;28mself\u001B[39m\u001B[38;5;241m.\u001B[39mcfg\u001B[38;5;241m.\u001B[39mupdate(deserialize_config(p)),\n\u001B[0;32m    418\u001B[0m     \u001B[38;5;124m\"\u001B[39m\u001B[38;5;124mmodel\u001B[39m\u001B[38;5;124m\"\u001B[39m: load_model,\n\u001B[0;32m    419\u001B[0m }\n\u001B[1;32m--> 420\u001B[0m \u001B[43mutil\u001B[49m\u001B[38;5;241;43m.\u001B[39;49m\u001B[43mfrom_disk\u001B[49m\u001B[43m(\u001B[49m\u001B[43mpath\u001B[49m\u001B[43m,\u001B[49m\u001B[43m \u001B[49m\u001B[43mdeserialize\u001B[49m\u001B[43m,\u001B[49m\u001B[43m \u001B[49m\u001B[43mexclude\u001B[49m\u001B[43m)\u001B[49m\n\u001B[0;32m    421\u001B[0m \u001B[38;5;28;01mreturn\u001B[39;00m \u001B[38;5;28mself\u001B[39m\n",
      "File \u001B[1;32m~\\AppData\\Local\\Programs\\Python\\Python39\\lib\\site-packages\\spacy\\util.py:1303\u001B[0m, in \u001B[0;36mfrom_disk\u001B[1;34m(path, readers, exclude)\u001B[0m\n\u001B[0;32m   1300\u001B[0m \u001B[38;5;28;01mfor\u001B[39;00m key, reader \u001B[38;5;129;01min\u001B[39;00m readers\u001B[38;5;241m.\u001B[39mitems():\n\u001B[0;32m   1301\u001B[0m     \u001B[38;5;66;03m# Split to support file names like meta.json\u001B[39;00m\n\u001B[0;32m   1302\u001B[0m     \u001B[38;5;28;01mif\u001B[39;00m key\u001B[38;5;241m.\u001B[39msplit(\u001B[38;5;124m\"\u001B[39m\u001B[38;5;124m.\u001B[39m\u001B[38;5;124m\"\u001B[39m)[\u001B[38;5;241m0\u001B[39m] \u001B[38;5;129;01mnot\u001B[39;00m \u001B[38;5;129;01min\u001B[39;00m exclude:\n\u001B[1;32m-> 1303\u001B[0m         \u001B[43mreader\u001B[49m\u001B[43m(\u001B[49m\u001B[43mpath\u001B[49m\u001B[43m \u001B[49m\u001B[38;5;241;43m/\u001B[39;49m\u001B[43m \u001B[49m\u001B[43mkey\u001B[49m\u001B[43m)\u001B[49m\n\u001B[0;32m   1304\u001B[0m \u001B[38;5;28;01mreturn\u001B[39;00m path\n",
      "File \u001B[1;32m~\\AppData\\Local\\Programs\\Python\\Python39\\lib\\site-packages\\spacy_transformers\\pipeline_component.py:394\u001B[0m, in \u001B[0;36mTransformer.from_disk.<locals>.load_model\u001B[1;34m(p)\u001B[0m\n\u001B[0;32m    392\u001B[0m \u001B[38;5;28;01mtry\u001B[39;00m:\n\u001B[0;32m    393\u001B[0m     \u001B[38;5;28;01mwith\u001B[39;00m \u001B[38;5;28mopen\u001B[39m(p, \u001B[38;5;124m\"\u001B[39m\u001B[38;5;124mrb\u001B[39m\u001B[38;5;124m\"\u001B[39m) \u001B[38;5;28;01mas\u001B[39;00m mfile:\n\u001B[1;32m--> 394\u001B[0m         \u001B[38;5;28;43mself\u001B[39;49m\u001B[38;5;241;43m.\u001B[39;49m\u001B[43mmodel\u001B[49m\u001B[38;5;241;43m.\u001B[39;49m\u001B[43mfrom_bytes\u001B[49m\u001B[43m(\u001B[49m\u001B[43mmfile\u001B[49m\u001B[38;5;241;43m.\u001B[39;49m\u001B[43mread\u001B[49m\u001B[43m(\u001B[49m\u001B[43m)\u001B[49m\u001B[43m)\u001B[49m\n\u001B[0;32m    395\u001B[0m \u001B[38;5;28;01mexcept\u001B[39;00m \u001B[38;5;167;01mAttributeError\u001B[39;00m:\n\u001B[0;32m    396\u001B[0m     \u001B[38;5;28;01mraise\u001B[39;00m \u001B[38;5;167;01mValueError\u001B[39;00m(Errors\u001B[38;5;241m.\u001B[39mE149) \u001B[38;5;28;01mfrom\u001B[39;00m \u001B[38;5;28mNone\u001B[39m\n",
      "File \u001B[1;32m~\\AppData\\Roaming\\Python\\Python39\\site-packages\\thinc\\model.py:592\u001B[0m, in \u001B[0;36mModel.from_bytes\u001B[1;34m(self, bytes_data)\u001B[0m\n\u001B[0;32m    584\u001B[0m \u001B[38;5;28;01mdef\u001B[39;00m \u001B[38;5;21mfrom_bytes\u001B[39m(\u001B[38;5;28mself\u001B[39m, bytes_data: \u001B[38;5;28mbytes\u001B[39m) \u001B[38;5;241m-\u001B[39m\u001B[38;5;241m>\u001B[39m \u001B[38;5;124m\"\u001B[39m\u001B[38;5;124mModel\u001B[39m\u001B[38;5;124m\"\u001B[39m:\n\u001B[0;32m    585\u001B[0m     \u001B[38;5;124;03m\"\"\"Deserialize the model from a bytes representation. Models are usually\u001B[39;00m\n\u001B[0;32m    586\u001B[0m \u001B[38;5;124;03m    serialized using msgpack, so you should be able to call msgpack.loads()\u001B[39;00m\n\u001B[0;32m    587\u001B[0m \u001B[38;5;124;03m    on the data and get back a dictionary with the contents.\u001B[39;00m\n\u001B[1;32m   (...)\u001B[0m\n\u001B[0;32m    590\u001B[0m \u001B[38;5;124;03m    result from loading and serializing a model.\u001B[39;00m\n\u001B[0;32m    591\u001B[0m \u001B[38;5;124;03m    \"\"\"\u001B[39;00m\n\u001B[1;32m--> 592\u001B[0m     msg \u001B[38;5;241m=\u001B[39m \u001B[43msrsly\u001B[49m\u001B[38;5;241;43m.\u001B[39;49m\u001B[43mmsgpack_loads\u001B[49m\u001B[43m(\u001B[49m\u001B[43mbytes_data\u001B[49m\u001B[43m)\u001B[49m\n\u001B[0;32m    593\u001B[0m     msg \u001B[38;5;241m=\u001B[39m convert_recursive(is_xp_array, \u001B[38;5;28mself\u001B[39m\u001B[38;5;241m.\u001B[39mops\u001B[38;5;241m.\u001B[39masarray, msg)\n\u001B[0;32m    594\u001B[0m     \u001B[38;5;28;01mreturn\u001B[39;00m \u001B[38;5;28mself\u001B[39m\u001B[38;5;241m.\u001B[39mfrom_dict(msg)\n",
      "File \u001B[1;32m~\\AppData\\Local\\Programs\\Python\\Python39\\lib\\site-packages\\srsly\\_msgpack_api.py:27\u001B[0m, in \u001B[0;36mmsgpack_loads\u001B[1;34m(data, use_list)\u001B[0m\n\u001B[0;32m     25\u001B[0m \u001B[38;5;66;03m# msgpack-python docs suggest disabling gc before unpacking large messages\u001B[39;00m\n\u001B[0;32m     26\u001B[0m gc\u001B[38;5;241m.\u001B[39mdisable()\n\u001B[1;32m---> 27\u001B[0m msg \u001B[38;5;241m=\u001B[39m \u001B[43mmsgpack\u001B[49m\u001B[38;5;241;43m.\u001B[39;49m\u001B[43mloads\u001B[49m\u001B[43m(\u001B[49m\u001B[43mdata\u001B[49m\u001B[43m,\u001B[49m\u001B[43m \u001B[49m\u001B[43mraw\u001B[49m\u001B[38;5;241;43m=\u001B[39;49m\u001B[38;5;28;43;01mFalse\u001B[39;49;00m\u001B[43m,\u001B[49m\u001B[43m \u001B[49m\u001B[43muse_list\u001B[49m\u001B[38;5;241;43m=\u001B[39;49m\u001B[43muse_list\u001B[49m\u001B[43m)\u001B[49m\n\u001B[0;32m     28\u001B[0m gc\u001B[38;5;241m.\u001B[39menable()\n\u001B[0;32m     29\u001B[0m \u001B[38;5;28;01mreturn\u001B[39;00m msg\n",
      "File \u001B[1;32m~\\AppData\\Local\\Programs\\Python\\Python39\\lib\\site-packages\\srsly\\msgpack\\__init__.py:79\u001B[0m, in \u001B[0;36munpackb\u001B[1;34m(packed, **kwargs)\u001B[0m\n\u001B[0;32m     77\u001B[0m         object_hook \u001B[38;5;241m=\u001B[39m functools\u001B[38;5;241m.\u001B[39mpartial(decoder, chain\u001B[38;5;241m=\u001B[39mobject_hook)\n\u001B[0;32m     78\u001B[0m     kwargs[\u001B[38;5;124m\"\u001B[39m\u001B[38;5;124mobject_hook\u001B[39m\u001B[38;5;124m\"\u001B[39m] \u001B[38;5;241m=\u001B[39m object_hook\n\u001B[1;32m---> 79\u001B[0m \u001B[38;5;28;01mreturn\u001B[39;00m _unpackb(packed, \u001B[38;5;241m*\u001B[39m\u001B[38;5;241m*\u001B[39mkwargs)\n",
      "File \u001B[1;32m~\\AppData\\Local\\Programs\\Python\\Python39\\lib\\site-packages\\srsly\\msgpack\\_unpacker.pyx:191\u001B[0m, in \u001B[0;36msrsly.msgpack._unpacker.unpackb\u001B[1;34m()\u001B[0m\n",
      "File \u001B[1;32m~\\AppData\\Local\\Programs\\Python\\Python39\\lib\\site-packages\\spacy_transformers\\data_classes.py:227\u001B[0m, in \u001B[0;36mdeserialize_transformer_data\u001B[1;34m(obj, chain)\u001B[0m\n\u001B[0;32m    225\u001B[0m \u001B[38;5;28;01mif\u001B[39;00m \u001B[38;5;124m\"\u001B[39m\u001B[38;5;124m__transformerdata__\u001B[39m\u001B[38;5;124m\"\u001B[39m \u001B[38;5;129;01min\u001B[39;00m obj:\n\u001B[0;32m    226\u001B[0m     \u001B[38;5;28;01mreturn\u001B[39;00m TransformerData\u001B[38;5;241m.\u001B[39mempty()\u001B[38;5;241m.\u001B[39mfrom_dict(obj[\u001B[38;5;124m\"\u001B[39m\u001B[38;5;124m__transformerdata__\u001B[39m\u001B[38;5;124m\"\u001B[39m])\n\u001B[1;32m--> 227\u001B[0m \u001B[38;5;28;01mreturn\u001B[39;00m obj \u001B[38;5;28;01mif\u001B[39;00m chain \u001B[38;5;129;01mis\u001B[39;00m \u001B[38;5;28;01mNone\u001B[39;00m \u001B[38;5;28;01melse\u001B[39;00m \u001B[43mchain\u001B[49m\u001B[43m(\u001B[49m\u001B[43mobj\u001B[49m\u001B[43m)\u001B[49m\n",
      "File \u001B[1;32m~\\AppData\\Local\\Programs\\Python\\Python39\\lib\\site-packages\\srsly\\msgpack\\_msgpack_numpy.py:70\u001B[0m, in \u001B[0;36mdecode_numpy\u001B[1;34m(obj, chain)\u001B[0m\n\u001B[0;32m     65\u001B[0m \u001B[38;5;28;01mdef\u001B[39;00m \u001B[38;5;21mdecode_numpy\u001B[39m(obj, chain\u001B[38;5;241m=\u001B[39m\u001B[38;5;28;01mNone\u001B[39;00m):\n\u001B[0;32m     66\u001B[0m     \u001B[38;5;124;03m\"\"\"\u001B[39;00m\n\u001B[0;32m     67\u001B[0m \u001B[38;5;124;03m    Decoder for deserializing numpy data types.\u001B[39;00m\n\u001B[0;32m     68\u001B[0m \u001B[38;5;124;03m    \"\"\"\u001B[39;00m\n\u001B[1;32m---> 70\u001B[0m     \u001B[38;5;28;01mtry\u001B[39;00m:\n\u001B[0;32m     71\u001B[0m         \u001B[38;5;28;01mif\u001B[39;00m \u001B[38;5;124mb\u001B[39m\u001B[38;5;124m\"\u001B[39m\u001B[38;5;124mnd\u001B[39m\u001B[38;5;124m\"\u001B[39m \u001B[38;5;129;01min\u001B[39;00m obj:\n\u001B[0;32m     72\u001B[0m             \u001B[38;5;28;01mif\u001B[39;00m obj[\u001B[38;5;124mb\u001B[39m\u001B[38;5;124m\"\u001B[39m\u001B[38;5;124mnd\u001B[39m\u001B[38;5;124m\"\u001B[39m] \u001B[38;5;129;01mis\u001B[39;00m \u001B[38;5;28;01mTrue\u001B[39;00m:\n\u001B[0;32m     73\u001B[0m \n\u001B[0;32m     74\u001B[0m                 \u001B[38;5;66;03m# Check if b'kind' is in obj to enable decoding of data\u001B[39;00m\n\u001B[0;32m     75\u001B[0m                 \u001B[38;5;66;03m# serialized with older versions (#20):\u001B[39;00m\n",
      "\u001B[1;31mKeyboardInterrupt\u001B[0m: "
     ]
    }
   ],
   "source": [
    "import re\n",
    "import keras.models\n",
    "import spacy\n",
    "import fitz\n",
    "import pandas as pd\n",
    "import matplotlib.pyplot as plt\n",
    "import seaborn as sns\n",
    "import numpy as np\n",
    "import tensorflow as tf\n",
    "from tensorflow.keras.preprocessing.text import Tokenizer\n",
    "from tensorflow.keras.preprocessing.sequence import pad_sequences\n",
    "from scipy.stats import norm\n",
    "from sklearn.preprocessing import StandardScaler\n",
    "from scipy import stats\n",
    "\n",
    "nlp = spacy.load('model/model_job')"
   ]
  },
  {
   "cell_type": "code",
   "execution_count": null,
   "outputs": [],
   "source": [
    "def extract_text(filePath, remove_line=False):\n",
    "    with fitz.open(filePath) as doc:\n",
    "        finaltext = \"\"\n",
    "        for page in doc:\n",
    "            text = page.get_text()\n",
    "            text = text.replace(\"\\n\",\" \")\n",
    "            text = text.replace(\"[^a-zA-Z0-9]\", \" \");\n",
    "            text = re.sub('\\W+',' ', text)\n",
    "            text = re.sub('[^A-Za-z0-9]',' ', text)\n",
    "            finaltext += text\n",
    "\n",
    "        if remove_line:\n",
    "            finaltext = text = re.sub('\\s', \" \", text)\n",
    "\n",
    "    return finaltext\n",
    "\n",
    "def extract_job(text, nlp):\n",
    "    doc = nlp(text)\n",
    "\n",
    "    job = set()\n",
    "\n",
    "    for a in doc.ents:\n",
    "        job.add(str(a).lower())\n",
    "\n",
    "    return job\n",
    "\n",
    "def seq_and_pad(sentences, tokenizer):\n",
    "    sequences = tokenizer.texts_to_sequences(sentences)\n",
    "\n",
    "    padded_sequences = pad_sequences(sequences, maxlen=30, padding='post')\n",
    "\n",
    "\n",
    "    return padded_sequences"
   ],
   "metadata": {
    "collapsed": false,
    "pycharm": {
     "name": "#%%\n"
    }
   }
  },
  {
   "cell_type": "code",
   "execution_count": null,
   "outputs": [],
   "source": [
    "df = pd.read_csv('sample/train.csv')\n",
    "\n",
    "df.head()"
   ],
   "metadata": {
    "collapsed": false,
    "pycharm": {
     "name": "#%%\n"
    }
   }
  },
  {
   "cell_type": "code",
   "execution_count": null,
   "outputs": [],
   "source": [
    "df = df.loc[:, 'Email':'hasil_rekomendasi']\n",
    "df['key'] = df['key'].astype('str')\n",
    "df"
   ],
   "metadata": {
    "collapsed": false,
    "pycharm": {
     "name": "#%%\n"
    }
   }
  },
  {
   "cell_type": "code",
   "execution_count": null,
   "outputs": [],
   "source": [
    "df.columns"
   ],
   "metadata": {
    "collapsed": false,
    "pycharm": {
     "name": "#%%\n"
    }
   }
  },
  {
   "cell_type": "code",
   "execution_count": null,
   "outputs": [],
   "source": [
    "traits = 'CC'\n",
    "\n",
    "feature = []\n",
    "label = []\n",
    "\n",
    "for i, row in df.iterrows():\n",
    "    feature.append(df.at[i, 'key'])\n",
    "    label.append(df.at[i, traits])\n",
    "\n",
    "feature_train = feature[:84]\n",
    "feature_test = feature[84:]\n",
    "\n",
    "label_train = label[:84]\n",
    "label_test = label[84:]\n",
    "\n",
    "tokenizer = Tokenizer(num_words=1000, oov_token='OOV')\n",
    "tokenizer.fit_on_texts(feature)\n",
    "\n",
    "feature_train = np.asarray(seq_and_pad(feature_train, tokenizer))\n",
    "feature_test = np.asarray(seq_and_pad(feature_test, tokenizer))\n",
    "\n",
    "label_train = np.asarray(label_train)\n",
    "label_test = np.asarray(label_test)"
   ],
   "metadata": {
    "collapsed": false,
    "pycharm": {
     "name": "#%%\n"
    }
   }
  },
  {
   "cell_type": "code",
   "execution_count": null,
   "outputs": [],
   "source": [
    "model = tf.keras.Sequential([\n",
    "    tf.keras.layers.Embedding(1000, 16, input_length=30),\n",
    "    tf.keras.layers.Conv1D(256, 3, activation='relu'),\n",
    "    tf.keras.layers.GlobalMaxPooling1D(),\n",
    "    tf.keras.layers.Dropout(0.6),\n",
    "    tf.keras.layers.Dense(64, activation='relu'),\n",
    "    tf.keras.layers.Dense(1)\n",
    "])\n",
    "\n",
    "# Set the training parameters\n",
    "model.compile(loss=tf.keras.losses.MeanAbsoluteError(), optimizer='adam')\n",
    "\n",
    "# Print the model summary\n",
    "history = model.fit(feature_train,\n",
    "                    label_train,\n",
    "                    epochs=100,\n",
    "                    validation_data=(feature_test, label_test),\n",
    "                    verbose=2)"
   ],
   "metadata": {
    "collapsed": false,
    "pycharm": {
     "name": "#%%\n"
    }
   }
  },
  {
   "cell_type": "code",
   "execution_count": null,
   "outputs": [],
   "source": [
    "def plot_graphs(history, metric):\n",
    "    plt.plot(history.history[metric])\n",
    "    plt.plot(history.history[f'val_{metric}'])\n",
    "    plt.xlabel(\"Epochs\")\n",
    "    plt.ylabel(metric)\n",
    "    plt.legend([metric, f'val_{metric}'])\n",
    "    plt.show()\n",
    "\n",
    "plot_graphs(history, \"loss\")"
   ],
   "metadata": {
    "collapsed": false,
    "pycharm": {
     "name": "#%%\n"
    }
   }
  },
  {
   "cell_type": "code",
   "execution_count": null,
   "outputs": [],
   "source": [
    "model.evaluate(feature_test, label_test)"
   ],
   "metadata": {
    "collapsed": false,
    "pycharm": {
     "name": "#%%\n"
    }
   }
  },
  {
   "cell_type": "code",
   "execution_count": null,
   "outputs": [],
   "source": [
    "pred = model.predict(feature_test)\n",
    "result = datas = {'pred':pred, 'true':label_test}\n",
    "for i in range(len(label_test)):\n",
    "    print('pred : {} label : {}'.format(round(pred[i][0]), label[i]))"
   ],
   "metadata": {
    "collapsed": false,
    "pycharm": {
     "name": "#%%\n"
    }
   }
  },
  {
   "cell_type": "code",
   "execution_count": null,
   "outputs": [],
   "source": [
    "model.save('{}.h5'.format(traits))"
   ],
   "metadata": {
    "collapsed": false,
    "pycharm": {
     "name": "#%%\n"
    }
   }
  }
 ],
 "metadata": {
  "kernelspec": {
   "display_name": "Python 3",
   "language": "python",
   "name": "python3"
  },
  "language_info": {
   "codemirror_mode": {
    "name": "ipython",
    "version": 2
   },
   "file_extension": ".py",
   "mimetype": "text/x-python",
   "name": "python",
   "nbconvert_exporter": "python",
   "pygments_lexer": "ipython2",
   "version": "2.7.6"
  }
 },
 "nbformat": 4,
 "nbformat_minor": 0
}